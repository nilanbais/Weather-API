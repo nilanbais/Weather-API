{
 "cells": [
  {
   "cell_type": "markdown",
   "metadata": {},
   "source": [
    "# Standaard block voor ophalen weersgegevens\n",
    "Onderstaande code is een standaard block voor het opvragen van historische weersgegevens. De API die is gebruikt, is 'Visual Crossing Weather' ontwikkeld door Visual Crossing Corporation.\n",
    "\n",
    "Meer info over de API: https://rapidapi.com/visual-crossing-corporation-visual-crossing-corporation-default/api/visual-crossing-weather/endpoints\n"
   ]
  },
  {
   "cell_type": "markdown",
   "metadata": {},
   "source": [
    "## Aan te passen variabele\n",
    "De onderstaande variabele (Datum en Locatie) zijn redelijk vrij aan te passen. Het is darentegen wel belangrijk dat de huidige datumnotatie gehanteerd blijft (dd-mm-yyyy). De notatie van de locatie is echter niet hoofdlettergevoelig."
   ]
  },
  {
   "cell_type": "code",
   "execution_count": 2,
   "metadata": {},
   "outputs": [],
   "source": [
    "Datum = \"01-01-2019\"\n",
    "Locatie = \"Rotterdam\""
   ]
  },
  {
   "cell_type": "markdown",
   "metadata": {},
   "source": [
    "## Standaard aanpak voor het verwerken van de reactie\n",
    "Onderstaand blok is de standaard aanpak voor het verwerken van de reactie die wordt ontvangen van de API. De weerdata van de desbetreffende dag op de desbetreffende locatie wordt gegeven in de vorm van een doctionary. "
   ]
  },
  {
   "cell_type": "markdown",
   "metadata": {},
   "source": [
    "### Importeren van de libraries"
   ]
  },
  {
   "cell_type": "code",
   "execution_count": 1,
   "metadata": {},
   "outputs": [],
   "source": [
    "from datetime import datetime\n",
    "\n",
    "import pandas as pd\n",
    "import requests\n",
    "from pandas.io.json import json_normalize"
   ]
  },
  {
   "cell_type": "markdown",
   "metadata": {},
   "source": [
    "### Omvormen van de datum naar het correcte format voor in de querystring voor de API\n",
    "Om het aanpassen van de datum zo gemakkelijk mogelijk te houden, wordt de datum gevraagd in de verkorte Europese notatie (dd-mm-jjjj) en vervolgens door onderstannde cell omgevormd in de notatie die de API begrijpt (yyyy-mm-dd voor in yyyy-mm-ddTuu:mm:ss+[tijdzone])."
   ]
  },
  {
   "cell_type": "code",
   "execution_count": 3,
   "metadata": {},
   "outputs": [],
   "source": [
    "dateObject = datetime.strptime(Datum, \"%d-%m-%Y\").strftime('%Y-%m-%d')"
   ]
  },
  {
   "cell_type": "markdown",
   "metadata": {},
   "source": [
    "### Vastleggen van de url\n",
    "De url is het adres van de API. Hier wordt de request naar gestuurd."
   ]
  },
  {
   "cell_type": "code",
   "execution_count": 4,
   "metadata": {},
   "outputs": [],
   "source": [
    "url = 'https://visual-crossing-weather.p.rapidapi.com/history'"
   ]
  },
  {
   "cell_type": "markdown",
   "metadata": {},
   "source": [
    "### Definiëren van de headers\n",
    "Headers moeten gespecificeerd worden. De headers geven meta-data van de request en response van de API en authoriseren de aanvraag en response."
   ]
  },
  {
   "cell_type": "code",
   "execution_count": 6,
   "metadata": {},
   "outputs": [],
   "source": [
    "headers = {'x-rapidapi-host': \"visual-crossing-weather.p.rapidapi.com\",\n",
    "           'x-rapidapi-key': \"01760723f2msh9ad74e49c3fa409p14af2fjsn481f178a56b5\"}"
   ]
  },
  {
   "cell_type": "markdown",
   "metadata": {},
   "source": [
    "### Definiëren van de querystring\n",
    "De querystring maakt de aanvraag concreet en definieerd de variabelen van de aanvraag. Om het aanpassen van de locatie zo eenvoudig mogelijk te maken, wordt in de querystring de locatie in de api-specifieke notatie geplakt. In deze toepassing worden de weersgegevens alleen opgevraagd van Nederlandse steden, waardoor 'NL' niet gespecificeerd hoeft te worden door de gebruiker."
   ]
  },
  {
   "cell_type": "code",
   "execution_count": 5,
   "metadata": {},
   "outputs": [],
   "source": [
    "querystring = {\"dayStartTime\": \"8:00:00\",\n",
    "               \"contentType\": \"json\",\n",
    "               \"dayEndTime\": \"17:00:00\",\n",
    "               \"shortColumnNames\": \"false\",\n",
    "               \"startDateTime\": f'{dateObject}T00:00:00',\n",
    "               \"aggregateHours\": \"24\",\n",
    "               \"location\": f'{Locatie.capitalize()}%2C NL',  # NL hoeft niet variabel te zijn, geen projecten buiten NL\n",
    "               \"endDateTime\": f'{dateObject}T00:00:00',\n",
    "               \"unitGroup\": \"metric\"}"
   ]
  },
  {
   "cell_type": "markdown",
   "metadata": {},
   "source": [
    "### API bevragen"
   ]
  },
  {
   "cell_type": "code",
   "execution_count": 7,
   "metadata": {},
   "outputs": [],
   "source": [
    "response = requests.request(\"GET\", url, headers=headers, params=querystring)"
   ]
  },
  {
   "cell_type": "markdown",
   "metadata": {},
   "source": [
    "### De response omvormen tot een dataframe\n",
    "De response wordt ontvangen in json format, maar de inhoud is nog enkel aan te spreken als string (tekst). Deze moet omgevormd worden om het gemakkelijk aanspreekbaar te maken."
   ]
  },
  {
   "cell_type": "code",
   "execution_count": 8,
   "metadata": {},
   "outputs": [
    {
     "name": "stderr",
     "output_type": "stream",
     "text": [
      "C:\\Users\\NBais\\AppData\\Roaming\\Python\\Python37\\site-packages\\ipykernel_launcher.py:2: FutureWarning: pandas.io.json.json_normalize is deprecated, use pandas.json_normalize instead\n",
      "  \n"
     ]
    }
   ],
   "source": [
    "r = response.json()\n",
    "df = json_normalize(r)"
   ]
  },
  {
   "cell_type": "markdown",
   "metadata": {},
   "source": [
    "### Isoleren van de pd.Series met de waarden uit het dataframe\n",
    "Het dataframe bevat één rij en groot aantal kolommen, waarvan één kolom alle gewenste waarden bevat in de vorm van een dict(). Dit moet geïsoleerd worden om verder handelingen te vereenvoudigen."
   ]
  },
  {
   "cell_type": "code",
   "execution_count": 9,
   "metadata": {},
   "outputs": [],
   "source": [
    "df2 = df[f'locations.{Locatie.capitalize()}%2C NL.values']"
   ]
  },
  {
   "cell_type": "markdown",
   "metadata": {},
   "source": [
    "### Isoleren van de dict() in de pd.Series"
   ]
  },
  {
   "cell_type": "code",
   "execution_count": 10,
   "metadata": {},
   "outputs": [],
   "source": [
    "_d = df2.values\n",
    "d = _d[0][0]"
   ]
  },
  {
   "cell_type": "markdown",
   "metadata": {},
   "source": [
    "### Definiëren van de gewenste waarden\n",
    "De waarde die geëxtraheerd moeten worden, moeten vooraf gedefinieerd worden om ze vervolgens toe te kunnen passen in een f-string. Dit als 'work-around'."
   ]
  },
  {
   "cell_type": "code",
   "execution_count": 11,
   "metadata": {},
   "outputs": [],
   "source": [
    "temp = d['temp']  # Gemiddelde temperatuur\n",
    "mint = d['mint']  # Minimale temperatuur\n",
    "maxt = d['maxt']  # Maximale temperatuur\n",
    "humidity = d['humidity']  # Luchtvochtigheid\n",
    "condition = d['conditions']  # Beschrijving van de weerscondities"
   ]
  },
  {
   "cell_type": "markdown",
   "metadata": {},
   "source": [
    "### Definiëren van een dataframe met enkel de gewenste data"
   ]
  },
  {
   "cell_type": "code",
   "execution_count": 12,
   "metadata": {},
   "outputs": [],
   "source": [
    "weerdata = pd.DataFrame([{temp, mint, maxt, humidity, condition}],\n",
    "                        columns=['temp', 'min temp', 'max temp', 'humidity', 'condition'])"
   ]
  },
  {
   "cell_type": "markdown",
   "metadata": {},
   "source": [
    "### Het presenteren van het resultaat\n",
    "Deze stap print het dataframe om te laten zien dat het gewenste resultaat behaald is."
   ]
  },
  {
   "cell_type": "code",
   "execution_count": 13,
   "metadata": {},
   "outputs": [
    {
     "name": "stdout",
     "output_type": "stream",
     "text": [
      "   temp  min temp  max temp  humidity               condition\n",
      "0   5.3       7.1       9.0      75.3  Rain, Partially cloudy\n"
     ]
    }
   ],
   "source": [
    "print(weerdata)"
   ]
  }
 ],
 "metadata": {
  "kernelspec": {
   "display_name": "Python 3",
   "language": "python",
   "name": "python3"
  },
  "language_info": {
   "codemirror_mode": {
    "name": "ipython",
    "version": 3
   },
   "file_extension": ".py",
   "mimetype": "text/x-python",
   "name": "python",
   "nbconvert_exporter": "python",
   "pygments_lexer": "ipython3",
   "version": "3.7.6"
  }
 },
 "nbformat": 4,
 "nbformat_minor": 4
}
