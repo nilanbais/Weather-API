{
 "cells": [
  {
   "cell_type": "markdown",
   "metadata": {},
   "source": [
    "# Standaard block voor ophalen weersgegevens\n",
    "Onderstaande code is een standaard block voor het opvragen van historische weersgegevens. De API die is gebruikt, is 'Visual Crossing Weather' ontwikkeld door Visual Crossing Corporation.\n",
    "\n",
    "Meer info over de API: https://rapidapi.com/visual-crossing-corporation-visual-crossing-corporation-default/api/visual-crossing-weather/endpoints\n"
   ]
  },
  {
   "cell_type": "markdown",
   "metadata": {},
   "source": [
    "## Aan te passen variabele\n",
    "De onderstaande variabele (Datum en Locatie) zijn redelijk vrij aan te passen. Het is darentegen wel belangrijk dat de huidige datumnotatie gehanteerd blijft. De notatie van de locatie is echter niet hoofdlettergevoelig."
   ]
  },
  {
   "cell_type": "code",
   "execution_count": 1,
   "metadata": {},
   "outputs": [],
   "source": [
    "Datum = \"01-01-2019\"\n",
    "Locatie = \"Rotterdam\""
   ]
  },
  {
   "cell_type": "markdown",
   "metadata": {},
   "source": [
    "## Standaard aanpak voor het verwerken van de reactie\n",
    "Onderstaand blok is de standaard aanpak voor het verwerken van de reactie die wordt ontvangen van de API. De weerdata van de desbetreffende dag op de desbetreffende locatie wordt gegeven in de vorm van een doctionary. "
   ]
  },
  {
   "cell_type": "code",
   "execution_count": 3,
   "metadata": {},
   "outputs": [],
   "source": [
    "# Importeren van de benodigde libraries\n",
    "import requests\n",
    "from datetime import datetime\n",
    "\n",
    "# Omvormen van de datum naar het correcte voormat voor in de querystring voor de API\n",
    "dateObject = datetime.strptime(Datum, \"%d-%m-%Y\").strftime('%Y-%m-%d')\n",
    "\n",
    "# Vastleggen van de url\n",
    "url = 'https://visual-crossing-weather.p.rapidapi.com/history'\n",
    "\n",
    "# Definiëren van de querystring\n",
    "querystring = {\"dayStartTime\": \"8:00:00\",\n",
    "               \"contentType\": \"csv\",\n",
    "               \"dayEndTime\": \"17:00:00\",\n",
    "               \"shortColumnNames\": \"false\",\n",
    "               \"startDateTime\": f'{dateObject}T00:00:00',\n",
    "               \"aggregateHours\": \"24\",\n",
    "               \"location\": f'{Locatie.capitalize()}%2C NL',  # NL kan vast, geen projecten buiten NL\n",
    "               \"endDateTime\": f'{dateObject}T00:00:00',\n",
    "               \"unitGroup\": \"metric\"}\n",
    "\n",
    "# Definiëren van de headers\n",
    "headers = {'x-rapidapi-host': \"visual-crossing-weather.p.rapidapi.com\",\n",
    "           'x-rapidapi-key': \"01760723f2msh9ad74e49c3fa409p14af2fjsn481f178a56b5\"}\n",
    "\n",
    "# De API bevragen\n",
    "response = requests.request(\"GET\", url, headers=headers, params=querystring)\n",
    "\n",
    "# De response van de API manipuleren (kolommen en waarden splitsen)\n",
    "r = response.text.split('\\n')\n",
    "par_names = r[0].split(',')\n",
    "par_val = r[1].replace('\"', '').split(',')\n",
    "\n",
    "# De kolomnamen aan de juiste waarden kopellen\n",
    "weerdata = dict()\n",
    "for i in range(len(par_names)):\n",
    "    weerdata[par_names[i]] = par_val[i]"
   ]
  },
  {
   "cell_type": "markdown",
   "metadata": {},
   "source": [
    "## Weergeven van resultaten\n",
    "Onderstaand blok is toegevoegd om te demonstreren dat de voorgaande blokken werken en het beoogde resultaat verkregen wordt."
   ]
  },
  {
   "cell_type": "code",
   "execution_count": 4,
   "metadata": {},
   "outputs": [
    {
     "name": "stdout",
     "output_type": "stream",
     "text": [
      "Op 01/01/2019 was het 7.1 graden Celsius in Rotterdam\n"
     ]
    }
   ],
   "source": [
    "# Statische variabele voor in de {} van de onderstaande f-string\n",
    "datum = 'Date time'\n",
    "temperatuur = 'Temperature'\n",
    "\n",
    "# Printen van een resultaat\n",
    "print(f'Op {weerdata[datum]} was het {weerdata[temperatuur]} graden Celsius in {Locatie}')"
   ]
  }
 ],
 "metadata": {
  "kernelspec": {
   "display_name": "Python 3",
   "language": "python",
   "name": "python3"
  },
  "language_info": {
   "codemirror_mode": {
    "name": "ipython",
    "version": 3
   },
   "file_extension": ".py",
   "mimetype": "text/x-python",
   "name": "python",
   "nbconvert_exporter": "python",
   "pygments_lexer": "ipython3",
   "version": "3.7.6"
  }
 },
 "nbformat": 4,
 "nbformat_minor": 4
}
